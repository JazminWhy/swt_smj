{
 "cells": [
  {
   "cell_type": "code",
   "execution_count": 3,
   "metadata": {},
   "outputs": [],
   "source": [
    "from SPARQLWrapper import SPARQLWrapper, N3\n",
    "import rdflib\n",
    "import requests\n",
    "import pandas as pd"
   ]
  },
  {
   "cell_type": "code",
   "execution_count": 4,
   "metadata": {},
   "outputs": [
    {
     "data": {
      "text/plain": [
       "<Graph identifier=N1b645d5ab1084ebda59da22e03f63d47 (<class 'rdflib.graph.Graph'>)>"
      ]
     },
     "execution_count": 4,
     "metadata": {},
     "output_type": "execute_result"
    }
   ],
   "source": [
    "g_facility = rdflib.Graph()\n",
    "g_facility.parse(\"Facility.rdf\")"
   ]
  },
  {
   "cell_type": "code",
   "execution_count": 5,
   "metadata": {},
   "outputs": [
    {
     "data": {
      "text/plain": [
       "'\\nqres_facility = g_facility.query(\\n    \"\"\"\\n    PREFIX rdf:<http://www.w3.org/1999/02/22-rdf-syntax-ns#>\\n    PREFIX rdfs:<http://www.w3.org/2000/01/rdf-schema#>\\n    PREFIX sites:<http://eunis.eea.europa.eu/rdf/sites-schema.rdf#>\\n    PREFIX facility:<http://prtr.ec.europa.eu/rdf/schema.rdf#>\\n    PREFIX geo:<http://www.w3.org/2003/01/geo/wgs84_pos#>\\n    \\n    SELECT ?name ?lat ?long\\n       WHERE {\\n       ?facility facility:facilityName ?name .\\n       ?facility facility:inCountry ?country .\\n       ?facility facility:city \"Mannheim\" .\\n       ?facility geo:lat ?lat .\\n       ?facility geo:long ?long .\\n       }\"\"\")\\n\\nfor row in qres_facility.result:\\n    print(row[0],row[1],row[2])\\n    \\n'"
      ]
     },
     "execution_count": 5,
     "metadata": {},
     "output_type": "execute_result"
    }
   ],
   "source": [
    "'''\n",
    "qres_facility = g_facility.query(\n",
    "    \"\"\"\n",
    "    PREFIX rdf:<http://www.w3.org/1999/02/22-rdf-syntax-ns#>\n",
    "    PREFIX rdfs:<http://www.w3.org/2000/01/rdf-schema#>\n",
    "    PREFIX sites:<http://eunis.eea.europa.eu/rdf/sites-schema.rdf#>\n",
    "    PREFIX facility:<http://prtr.ec.europa.eu/rdf/schema.rdf#>\n",
    "    PREFIX geo:<http://www.w3.org/2003/01/geo/wgs84_pos#>\n",
    "    \n",
    "    SELECT ?name ?lat ?long\n",
    "       WHERE {\n",
    "       ?facility facility:facilityName ?name .\n",
    "       ?facility facility:inCountry ?country .\n",
    "       ?facility facility:city \"Mannheim\" .\n",
    "       ?facility geo:lat ?lat .\n",
    "       ?facility geo:long ?long .\n",
    "       }\"\"\")\n",
    "\n",
    "for row in qres_facility.result:\n",
    "    print(row[0],row[1],row[2])\n",
    "    \n",
    "'''"
   ]
  },
  {
   "cell_type": "code",
   "execution_count": 6,
   "metadata": {},
   "outputs": [
    {
     "name": "stdout",
     "output_type": "stream",
     "text": [
      "query result not none\n",
      "city is .. http://dbpedia.org/resource/Montracol\n",
      "Result of EEA query\n"
     ]
    },
    {
     "name": "stderr",
     "output_type": "stream",
     "text": [
      "/Users/soumya/anaconda3/lib/python3.6/site-packages/ipykernel_launcher.py:7: DeprecationWarning: accessing the 'result' attribute is deprecated. Iterate over the object instead.\n",
      "  import sys\n"
     ]
    },
    {
     "name": "stdout",
     "output_type": "stream",
     "text": [
      "Empty DataFrame\n",
      "Columns: []\n",
      "Index: []\n",
      "Converting to upper-case...\n",
      "MONTRACOL\n",
      "\n",
      "Result of EEA query\n",
      "       Facility Latitude Longitude\n",
      "0  SA Multiporc    46.18      5.11\n"
     ]
    }
   ],
   "source": [
    "dbpedia_endpoint = 'http://dbpedia.org/sparql/'\n",
    "\n",
    "\n",
    "def run_query(dataset, query):\n",
    "    r = dataset.query(query)\n",
    "    print('Result of EEA query')\n",
    "    for row in r.result:\n",
    "        #print(row)\n",
    "        yield (row[0], row[1], row[2])\n",
    " \n",
    "\n",
    "def run_query_db_pedia(endpoint, query, vars):\n",
    "    r = requests.get(endpoint, params={'query': query, 'format': 'application/sparql-results+json', 'encoding':'utf-8'})\n",
    "    for row in r.json()['results']['bindings']:\n",
    "       yield [row[v]['value'] for v in vars]\n",
    " \n",
    "\n",
    "def run_all(name):\n",
    "    queryDbpedia = \"\"\"\n",
    "    PREFIX rdfs:<http://www.w3.org/2000/01/rdf-schema#>\n",
    "    PREFIX dbo:<http://dbpedia.org/ontology/>\n",
    "\n",
    "    SELECT DISTINCT ?city {\n",
    "    ?city rdfs:label \"%(label)s\"@de .\n",
    "    ?city a dbo:PopulatedPlace .\n",
    "    }\"\"\" % {'label': name}\n",
    "\n",
    "    query_EEA = \"\"\"\n",
    "    PREFIX rdf:<http://www.w3.org/1999/02/22-rdf-syntax-ns#>\n",
    "    PREFIX rdfs:<http://www.w3.org/2000/01/rdf-schema#>\n",
    "    PREFIX sites:<http://eunis.eea.europa.eu/rdf/sites-schema.rdf#>\n",
    "    PREFIX facility:<http://prtr.ec.europa.eu/rdf/schema.rdf#>\n",
    "\n",
    "    SELECT ?name ?lat ?long\n",
    "       WHERE {\n",
    "       ?facility facility:facilityName ?name .\n",
    "       ?facility facility:inCountry ?country .\n",
    "       ?facility facility:city ?place_name .\n",
    "       ?facility geo:lat ?lat .\n",
    "       ?facility geo:long ?long .\n",
    "\n",
    "    FILTER ( regex(?place_name, \"%(city1)s\" ) )\n",
    "    }\"\"\" % {'city1': name}\n",
    "    \n",
    "    try:\n",
    "        if run_query_db_pedia(dbpedia_endpoint, queryDbpedia, ['city']).__next__():\n",
    "            print('query result not none')\n",
    "        \n",
    "        for city, in run_query_db_pedia(dbpedia_endpoint, queryDbpedia, ['city']):\n",
    "            print('city is .. {}'.format(city))\n",
    "\n",
    "            result = pd.DataFrame() \n",
    "            for facility, lat, long in run_query(g_facility,  query_EEA):\n",
    "               #print(\"\\t\", facility, lat, long)\n",
    "                result = result.append({'Facility': facility, 'Longitude': long, 'Latitude': lat}, ignore_index=True)\n",
    "    except Exception as exp:\n",
    "        print(exp)\n",
    "        result = pd.DataFrame() \n",
    "        for facility, lat, long in run_query(g_facility,  query_EEA):\n",
    "       #print(\"\\t\", facility, lat, long)\n",
    "            result = result.append({'Facility': facility, 'Longitude': long, 'Latitude': lat}, ignore_index=True)\n",
    "        \n",
    "    \n",
    "    return result\n",
    "\n",
    "def main(): \n",
    "    #query_city = 'Mannheim'\n",
    "    #query_city = 'RIVALTA DI TORINO'\n",
    "    #query_city = 'Rivalta Di Torino'\n",
    "    query_city = 'Montracol'\n",
    "    query_result = run_all(query_city)\n",
    "    print(query_result)\n",
    "    \n",
    "    if query_result.empty:\n",
    "        print('Converting to upper-case...')\n",
    "        print(query_city.upper())\n",
    "        query_result = run_all(query_city.upper())\n",
    "        print(query_result)\n",
    "\n",
    "\n",
    "if __name__ == \"__main__\":\n",
    "    main()"
   ]
  },
  {
   "cell_type": "code",
   "execution_count": null,
   "metadata": {},
   "outputs": [],
   "source": []
  }
 ],
 "metadata": {
  "kernelspec": {
   "display_name": "Python 3",
   "language": "python",
   "name": "python3"
  },
  "language_info": {
   "codemirror_mode": {
    "name": "ipython",
    "version": 3
   },
   "file_extension": ".py",
   "mimetype": "text/x-python",
   "name": "python",
   "nbconvert_exporter": "python",
   "pygments_lexer": "ipython3",
   "version": "3.6.5"
  }
 },
 "nbformat": 4,
 "nbformat_minor": 2
}
